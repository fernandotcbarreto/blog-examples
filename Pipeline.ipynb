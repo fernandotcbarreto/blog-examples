{
 "cells": [
  {
   "cell_type": "code",
   "execution_count": 2,
   "metadata": {},
   "outputs": [
    {
     "name": "stderr",
     "output_type": "stream",
     "text": [
      "/anaconda3/lib/python3.6/importlib/_bootstrap.py:219: RuntimeWarning: numpy.dtype size changed, may indicate binary incompatibility. Expected 96, got 88\n",
      "  return f(*args, **kwds)\n",
      "/anaconda3/lib/python3.6/importlib/_bootstrap.py:219: RuntimeWarning: numpy.dtype size changed, may indicate binary incompatibility. Expected 96, got 88\n",
      "  return f(*args, **kwds)\n",
      "/anaconda3/lib/python3.6/importlib/_bootstrap.py:219: RuntimeWarning: numpy.dtype size changed, may indicate binary incompatibility. Expected 96, got 88\n",
      "  return f(*args, **kwds)\n",
      "/anaconda3/lib/python3.6/importlib/_bootstrap.py:219: RuntimeWarning: numpy.dtype size changed, may indicate binary incompatibility. Expected 96, got 88\n",
      "  return f(*args, **kwds)\n",
      "/anaconda3/lib/python3.6/importlib/_bootstrap.py:219: RuntimeWarning: numpy.dtype size changed, may indicate binary incompatibility. Expected 96, got 88\n",
      "  return f(*args, **kwds)\n"
     ]
    }
   ],
   "source": [
    "import numpy as np\n",
    "import pandas as pd\n",
    "from sklearn import datasets\n",
    "from sklearn.pipeline import Pipeline\n",
    "from sklearn.preprocessing import PolynomialFeatures\n",
    "from sklearn.decomposition import PCA\n",
    "from sklearn.linear_model import Ridge\n",
    "from sklearn.model_selection import GridSearchCV\n",
    "from sklearn.model_selection import cross_validate"
   ]
  },
  {
   "cell_type": "markdown",
   "metadata": {},
   "source": [
    "Vamos carregar os dados do dataset de diabetes do scikit para fazer uma regressão! Se você apertar **tab** depois do ponto você vai conseguir ver outros datasets que já vem no scikit."
   ]
  },
  {
   "cell_type": "code",
   "execution_count": 3,
   "metadata": {},
   "outputs": [],
   "source": [
    "diabetes = datasets.load_diabetes()"
   ]
  },
  {
   "cell_type": "code",
   "execution_count": 4,
   "metadata": {},
   "outputs": [],
   "source": [
    "X = diabetes.data\n",
    "y = diabetes.target"
   ]
  },
  {
   "cell_type": "markdown",
   "metadata": {},
   "source": [
    "Vamos definir uma pipeline que pega nossas features e faz a transformação polinomial deles (da uma olhada na [doc](http://scikit-learn.org/stable/modules/generated/sklearn.preprocessing.PolynomialFeatures.html)) como primeiro passo. O segundo passo é aplicar a decomposição PCA e, por último, faz uma regressão de Ridge."
   ]
  },
  {
   "cell_type": "code",
   "execution_count": 5,
   "metadata": {},
   "outputs": [],
   "source": [
    "pipe = Pipeline(steps=[('polinomial', PolynomialFeatures()),\n",
    "                       ('pca', PCA()),\n",
    "                       ('regressao', Ridge())])"
   ]
  },
  {
   "cell_type": "markdown",
   "metadata": {},
   "source": [
    "Podemos fazer o fit da nossa instância do Pipeline assim como se fosse uma instância de um estimador qualquer."
   ]
  },
  {
   "cell_type": "code",
   "execution_count": 6,
   "metadata": {},
   "outputs": [
    {
     "data": {
      "text/plain": [
       "Pipeline(memory=None,\n",
       "     steps=[('polinomial', PolynomialFeatures(degree=2, include_bias=True, interaction_only=False)), ('pca', PCA(copy=True, iterated_power='auto', n_components=None, random_state=None,\n",
       "  svd_solver='auto', tol=0.0, whiten=False)), ('regressao', Ridge(alpha=1.0, copy_X=True, fit_intercept=True, max_iter=None,\n",
       "   normalize=False, random_state=None, solver='auto', tol=0.001))])"
      ]
     },
     "execution_count": 6,
     "metadata": {},
     "output_type": "execute_result"
    }
   ],
   "source": [
    "pipe.fit(X, y)"
   ]
  },
  {
   "cell_type": "markdown",
   "metadata": {},
   "source": [
    "Mas o legal de usar o Pipeline é que, como qualquer outro estimador, a gente pode usar ele no cross_validate e no GridSearchCV!"
   ]
  },
  {
   "cell_type": "code",
   "execution_count": 7,
   "metadata": {},
   "outputs": [],
   "source": [
    "metricas = ['explained_variance',\n",
    "            'neg_mean_absolute_error',\n",
    "            'neg_mean_squared_error',\n",
    "            #'neg_mean_squared_log_error',\n",
    "            'neg_median_absolute_error',\n",
    "            'r2']"
   ]
  },
  {
   "cell_type": "code",
   "execution_count": 8,
   "metadata": {},
   "outputs": [
    {
     "data": {
      "text/plain": [
       "{'fit_time': array([0.01254892, 0.01198983, 0.00464511]),\n",
       " 'score_time': array([0.01503205, 0.00954509, 0.00710487]),\n",
       " 'test_explained_variance': array([0.37125582, 0.41891023, 0.44029588]),\n",
       " 'test_neg_mean_absolute_error': array([-48.7818243 , -52.70361757, -47.38501551]),\n",
       " 'test_neg_mean_squared_error': array([-3599.40341608, -3688.61864658, -3188.57772783]),\n",
       " 'test_neg_median_absolute_error': array([-42.71639399, -48.47971835, -46.09899913]),\n",
       " 'test_r2': array([0.37045604, 0.41862605, 0.44028555])}"
      ]
     },
     "execution_count": 8,
     "metadata": {},
     "output_type": "execute_result"
    }
   ],
   "source": [
    "cross_validate(pipe, X, y, return_train_score=False,\n",
    "               scoring=metricas)"
   ]
  },
  {
   "cell_type": "markdown",
   "metadata": {},
   "source": [
    "Na hora de fazer o Grid pode ser um pouco confuso saber quais são os parâmetros, já que misturamos muita coisa. O pulo do gato é usar o método ```get_params()```:"
   ]
  },
  {
   "cell_type": "code",
   "execution_count": 9,
   "metadata": {},
   "outputs": [
    {
     "data": {
      "text/plain": [
       "dict_keys(['memory', 'steps', 'polinomial', 'pca', 'regressao', 'polinomial__degree', 'polinomial__include_bias', 'polinomial__interaction_only', 'pca__copy', 'pca__iterated_power', 'pca__n_components', 'pca__random_state', 'pca__svd_solver', 'pca__tol', 'pca__whiten', 'regressao__alpha', 'regressao__copy_X', 'regressao__fit_intercept', 'regressao__max_iter', 'regressao__normalize', 'regressao__random_state', 'regressao__solver', 'regressao__tol'])"
      ]
     },
     "execution_count": 9,
     "metadata": {},
     "output_type": "execute_result"
    }
   ],
   "source": [
    "pipe.get_params().keys()"
   ]
  },
  {
   "cell_type": "code",
   "execution_count": 10,
   "metadata": {},
   "outputs": [],
   "source": [
    "param_grid = {'polinomial__degree':[2,3],\n",
    "              'polinomial__include_bias':[True, False],\n",
    "              'polinomial__interaction_only':[False],\n",
    "              'pca__n_components':[None, 10],\n",
    "              'pca__random_state':[42],\n",
    "              'pca__whiten':[True, False],\n",
    "              'regressao__alpha':[1.0, 0.7],\n",
    "              'regressao__normalize':[False],\n",
    "              'regressao__random_state':[42],\n",
    "              'regressao__solver':['svd', 'lsqr', 'saga']\n",
    "              }"
   ]
  },
  {
   "cell_type": "code",
   "execution_count": 11,
   "metadata": {},
   "outputs": [],
   "source": [
    "grid = GridSearchCV(pipe, param_grid=param_grid,\n",
    "                    scoring=metricas, verbose=1,\n",
    "                    refit='neg_mean_squared_error',\n",
    "                    return_train_score=False)"
   ]
  },
  {
   "cell_type": "code",
   "execution_count": 12,
   "metadata": {},
   "outputs": [
    {
     "name": "stdout",
     "output_type": "stream",
     "text": [
      "Fitting 3 folds for each of 96 candidates, totalling 288 fits\n"
     ]
    },
    {
     "name": "stderr",
     "output_type": "stream",
     "text": [
      "[Parallel(n_jobs=1)]: Done 288 out of 288 | elapsed:   16.0s finished\n"
     ]
    },
    {
     "data": {
      "text/plain": [
       "GridSearchCV(cv=None, error_score='raise',\n",
       "       estimator=Pipeline(memory=None,\n",
       "     steps=[('polinomial', PolynomialFeatures(degree=2, include_bias=True, interaction_only=False)), ('pca', PCA(copy=True, iterated_power='auto', n_components=None, random_state=None,\n",
       "  svd_solver='auto', tol=0.0, whiten=False)), ('regressao', Ridge(alpha=1.0, copy_X=True, fit_intercept=True, max_iter=None,\n",
       "   normalize=False, random_state=None, solver='auto', tol=0.001))]),\n",
       "       fit_params=None, iid=True, n_jobs=1,\n",
       "       param_grid={'polinomial__degree': [2, 3], 'polinomial__include_bias': [True, False], 'polinomial__interaction_only': [False], 'pca__n_components': [None, 10], 'pca__random_state': [42], 'pca__whiten': [True, False], 'regressao__alpha': [1.0, 0.7], 'regressao__normalize': [False], 'regressao__random_state': [42], 'regressao__solver': ['svd', 'lsqr', 'saga']},\n",
       "       pre_dispatch='2*n_jobs', refit='neg_mean_squared_error',\n",
       "       return_train_score=False,\n",
       "       scoring=['explained_variance', 'neg_mean_absolute_error', 'neg_mean_squared_error', 'neg_median_absolute_error', 'r2'],\n",
       "       verbose=1)"
      ]
     },
     "execution_count": 12,
     "metadata": {},
     "output_type": "execute_result"
    }
   ],
   "source": [
    "grid.fit(X, y)"
   ]
  },
  {
   "cell_type": "code",
   "execution_count": 14,
   "metadata": {},
   "outputs": [
    {
     "data": {
      "text/html": [
       "<div>\n",
       "<style scoped>\n",
       "    .dataframe tbody tr th:only-of-type {\n",
       "        vertical-align: middle;\n",
       "    }\n",
       "\n",
       "    .dataframe tbody tr th {\n",
       "        vertical-align: top;\n",
       "    }\n",
       "\n",
       "    .dataframe thead th {\n",
       "        text-align: right;\n",
       "    }\n",
       "</style>\n",
       "<table border=\"1\" class=\"dataframe\">\n",
       "  <thead>\n",
       "    <tr style=\"text-align: right;\">\n",
       "      <th></th>\n",
       "      <th>mean_fit_time</th>\n",
       "      <th>mean_score_time</th>\n",
       "      <th>mean_test_explained_variance</th>\n",
       "      <th>mean_test_neg_mean_absolute_error</th>\n",
       "      <th>mean_test_neg_mean_squared_error</th>\n",
       "      <th>mean_test_neg_median_absolute_error</th>\n",
       "      <th>mean_test_r2</th>\n",
       "      <th>param_pca__n_components</th>\n",
       "      <th>param_pca__random_state</th>\n",
       "      <th>param_pca__whiten</th>\n",
       "      <th>param_polinomial__degree</th>\n",
       "      <th>param_polinomial__include_bias</th>\n",
       "      <th>param_polinomial__interaction_only</th>\n",
       "      <th>param_regressao__alpha</th>\n",
       "      <th>param_regressao__normalize</th>\n",
       "      <th>param_regressao__random_state</th>\n",
       "      <th>param_regressao__solver</th>\n",
       "      <th>params</th>\n",
       "      <th>rank_test_explained_variance</th>\n",
       "      <th>rank_test_neg_mean_absolute_error</th>\n",
       "      <th>rank_test_neg_mean_squared_error</th>\n",
       "      <th>rank_test_neg_median_absolute_error</th>\n",
       "      <th>rank_test_r2</th>\n",
       "      <th>split0_test_explained_variance</th>\n",
       "      <th>split0_test_neg_mean_absolute_error</th>\n",
       "      <th>split0_test_neg_mean_squared_error</th>\n",
       "      <th>split0_test_neg_median_absolute_error</th>\n",
       "      <th>split0_test_r2</th>\n",
       "      <th>split1_test_explained_variance</th>\n",
       "      <th>split1_test_neg_mean_absolute_error</th>\n",
       "      <th>split1_test_neg_mean_squared_error</th>\n",
       "      <th>split1_test_neg_median_absolute_error</th>\n",
       "      <th>split1_test_r2</th>\n",
       "      <th>split2_test_explained_variance</th>\n",
       "      <th>split2_test_neg_mean_absolute_error</th>\n",
       "      <th>split2_test_neg_mean_squared_error</th>\n",
       "      <th>split2_test_neg_median_absolute_error</th>\n",
       "      <th>split2_test_r2</th>\n",
       "      <th>std_fit_time</th>\n",
       "      <th>std_score_time</th>\n",
       "      <th>std_test_explained_variance</th>\n",
       "      <th>std_test_neg_mean_absolute_error</th>\n",
       "      <th>std_test_neg_mean_squared_error</th>\n",
       "      <th>std_test_neg_median_absolute_error</th>\n",
       "      <th>std_test_r2</th>\n",
       "    </tr>\n",
       "  </thead>\n",
       "  <tbody>\n",
       "    <tr>\n",
       "      <th>8</th>\n",
       "      <td>0.007757</td>\n",
       "      <td>0.007032</td>\n",
       "      <td>0.402696</td>\n",
       "      <td>-46.824259</td>\n",
       "      <td>-3539.651068</td>\n",
       "      <td>-38.666867</td>\n",
       "      <td>0.401602</td>\n",
       "      <td>None</td>\n",
       "      <td>42</td>\n",
       "      <td>True</td>\n",
       "      <td>2</td>\n",
       "      <td>False</td>\n",
       "      <td>False</td>\n",
       "      <td>1</td>\n",
       "      <td>False</td>\n",
       "      <td>42</td>\n",
       "      <td>saga</td>\n",
       "      <td>{'pca__n_components': None, 'pca__random_state...</td>\n",
       "      <td>73</td>\n",
       "      <td>25</td>\n",
       "      <td>73</td>\n",
       "      <td>1</td>\n",
       "      <td>73</td>\n",
       "      <td>0.399700</td>\n",
       "      <td>-45.736023</td>\n",
       "      <td>-3445.117814</td>\n",
       "      <td>-38.029483</td>\n",
       "      <td>0.397441</td>\n",
       "      <td>0.413149</td>\n",
       "      <td>-49.440803</td>\n",
       "      <td>-3725.773941</td>\n",
       "      <td>-42.898886</td>\n",
       "      <td>0.412770</td>\n",
       "      <td>0.395260</td>\n",
       "      <td>-45.303356</td>\n",
       "      <td>-3448.704531</td>\n",
       "      <td>-35.076569</td>\n",
       "      <td>0.394624</td>\n",
       "      <td>0.000494</td>\n",
       "      <td>0.000280</td>\n",
       "      <td>0.007598</td>\n",
       "      <td>1.855473</td>\n",
       "      <td>131.393659</td>\n",
       "      <td>3.221730</td>\n",
       "      <td>0.007967</td>\n",
       "    </tr>\n",
       "    <tr>\n",
       "      <th>11</th>\n",
       "      <td>0.007219</td>\n",
       "      <td>0.006651</td>\n",
       "      <td>0.402405</td>\n",
       "      <td>-46.828401</td>\n",
       "      <td>-3541.344618</td>\n",
       "      <td>-38.712712</td>\n",
       "      <td>0.401312</td>\n",
       "      <td>None</td>\n",
       "      <td>42</td>\n",
       "      <td>True</td>\n",
       "      <td>2</td>\n",
       "      <td>False</td>\n",
       "      <td>False</td>\n",
       "      <td>0.7</td>\n",
       "      <td>False</td>\n",
       "      <td>42</td>\n",
       "      <td>saga</td>\n",
       "      <td>{'pca__n_components': None, 'pca__random_state...</td>\n",
       "      <td>74</td>\n",
       "      <td>26</td>\n",
       "      <td>74</td>\n",
       "      <td>2</td>\n",
       "      <td>74</td>\n",
       "      <td>0.399403</td>\n",
       "      <td>-45.737541</td>\n",
       "      <td>-3446.791853</td>\n",
       "      <td>-38.038503</td>\n",
       "      <td>0.397148</td>\n",
       "      <td>0.412962</td>\n",
       "      <td>-49.442152</td>\n",
       "      <td>-3726.962774</td>\n",
       "      <td>-42.994191</td>\n",
       "      <td>0.412583</td>\n",
       "      <td>0.394868</td>\n",
       "      <td>-45.312930</td>\n",
       "      <td>-3450.922443</td>\n",
       "      <td>-35.110028</td>\n",
       "      <td>0.394234</td>\n",
       "      <td>0.000232</td>\n",
       "      <td>0.000708</td>\n",
       "      <td>0.007679</td>\n",
       "      <td>1.853200</td>\n",
       "      <td>131.040070</td>\n",
       "      <td>3.250445</td>\n",
       "      <td>0.008044</td>\n",
       "    </tr>\n",
       "    <tr>\n",
       "      <th>65</th>\n",
       "      <td>0.039203</td>\n",
       "      <td>0.039280</td>\n",
       "      <td>0.483306</td>\n",
       "      <td>-44.517191</td>\n",
       "      <td>-3066.085694</td>\n",
       "      <td>-38.728227</td>\n",
       "      <td>0.481970</td>\n",
       "      <td>10</td>\n",
       "      <td>42</td>\n",
       "      <td>True</td>\n",
       "      <td>3</td>\n",
       "      <td>True</td>\n",
       "      <td>False</td>\n",
       "      <td>0.7</td>\n",
       "      <td>False</td>\n",
       "      <td>42</td>\n",
       "      <td>saga</td>\n",
       "      <td>{'pca__n_components': 10, 'pca__random_state':...</td>\n",
       "      <td>23</td>\n",
       "      <td>21</td>\n",
       "      <td>23</td>\n",
       "      <td>3</td>\n",
       "      <td>23</td>\n",
       "      <td>0.469249</td>\n",
       "      <td>-45.308071</td>\n",
       "      <td>-3050.740846</td>\n",
       "      <td>-42.055209</td>\n",
       "      <td>0.466418</td>\n",
       "      <td>0.483560</td>\n",
       "      <td>-46.477228</td>\n",
       "      <td>-3276.844869</td>\n",
       "      <td>-40.703594</td>\n",
       "      <td>0.483527</td>\n",
       "      <td>0.497205</td>\n",
       "      <td>-41.760893</td>\n",
       "      <td>-2870.775753</td>\n",
       "      <td>-33.403245</td>\n",
       "      <td>0.496072</td>\n",
       "      <td>0.002313</td>\n",
       "      <td>0.002848</td>\n",
       "      <td>0.011421</td>\n",
       "      <td>2.003444</td>\n",
       "      <td>165.946912</td>\n",
       "      <td>3.799273</td>\n",
       "      <td>0.012162</td>\n",
       "    </tr>\n",
       "    <tr>\n",
       "      <th>71</th>\n",
       "      <td>0.036259</td>\n",
       "      <td>0.037464</td>\n",
       "      <td>0.483306</td>\n",
       "      <td>-44.517191</td>\n",
       "      <td>-3066.085694</td>\n",
       "      <td>-38.728227</td>\n",
       "      <td>0.481970</td>\n",
       "      <td>10</td>\n",
       "      <td>42</td>\n",
       "      <td>True</td>\n",
       "      <td>3</td>\n",
       "      <td>False</td>\n",
       "      <td>False</td>\n",
       "      <td>0.7</td>\n",
       "      <td>False</td>\n",
       "      <td>42</td>\n",
       "      <td>saga</td>\n",
       "      <td>{'pca__n_components': 10, 'pca__random_state':...</td>\n",
       "      <td>24</td>\n",
       "      <td>21</td>\n",
       "      <td>24</td>\n",
       "      <td>4</td>\n",
       "      <td>24</td>\n",
       "      <td>0.469249</td>\n",
       "      <td>-45.308071</td>\n",
       "      <td>-3050.740846</td>\n",
       "      <td>-42.055209</td>\n",
       "      <td>0.466418</td>\n",
       "      <td>0.483560</td>\n",
       "      <td>-46.477228</td>\n",
       "      <td>-3276.844869</td>\n",
       "      <td>-40.703594</td>\n",
       "      <td>0.483527</td>\n",
       "      <td>0.497205</td>\n",
       "      <td>-41.760893</td>\n",
       "      <td>-2870.775753</td>\n",
       "      <td>-33.403245</td>\n",
       "      <td>0.496072</td>\n",
       "      <td>0.001364</td>\n",
       "      <td>0.005075</td>\n",
       "      <td>0.011421</td>\n",
       "      <td>2.003444</td>\n",
       "      <td>165.946912</td>\n",
       "      <td>3.799273</td>\n",
       "      <td>0.012162</td>\n",
       "    </tr>\n",
       "    <tr>\n",
       "      <th>63</th>\n",
       "      <td>0.042411</td>\n",
       "      <td>0.040020</td>\n",
       "      <td>0.483361</td>\n",
       "      <td>-44.514384</td>\n",
       "      <td>-3065.779924</td>\n",
       "      <td>-38.733575</td>\n",
       "      <td>0.482024</td>\n",
       "      <td>10</td>\n",
       "      <td>42</td>\n",
       "      <td>True</td>\n",
       "      <td>3</td>\n",
       "      <td>True</td>\n",
       "      <td>False</td>\n",
       "      <td>0.7</td>\n",
       "      <td>False</td>\n",
       "      <td>42</td>\n",
       "      <td>svd</td>\n",
       "      <td>{'pca__n_components': 10, 'pca__random_state':...</td>\n",
       "      <td>15</td>\n",
       "      <td>10</td>\n",
       "      <td>15</td>\n",
       "      <td>5</td>\n",
       "      <td>15</td>\n",
       "      <td>0.469351</td>\n",
       "      <td>-45.301369</td>\n",
       "      <td>-3050.160263</td>\n",
       "      <td>-42.090665</td>\n",
       "      <td>0.466520</td>\n",
       "      <td>0.483546</td>\n",
       "      <td>-46.478208</td>\n",
       "      <td>-3276.929837</td>\n",
       "      <td>-40.716245</td>\n",
       "      <td>0.483514</td>\n",
       "      <td>0.497280</td>\n",
       "      <td>-41.758222</td>\n",
       "      <td>-2870.355929</td>\n",
       "      <td>-33.370978</td>\n",
       "      <td>0.496145</td>\n",
       "      <td>0.001665</td>\n",
       "      <td>0.001353</td>\n",
       "      <td>0.011409</td>\n",
       "      <td>2.004102</td>\n",
       "      <td>166.165207</td>\n",
       "      <td>3.826901</td>\n",
       "      <td>0.012147</td>\n",
       "    </tr>\n",
       "  </tbody>\n",
       "</table>\n",
       "</div>"
      ],
      "text/plain": [
       "    mean_fit_time  mean_score_time  mean_test_explained_variance  \\\n",
       "8        0.007757         0.007032                      0.402696   \n",
       "11       0.007219         0.006651                      0.402405   \n",
       "65       0.039203         0.039280                      0.483306   \n",
       "71       0.036259         0.037464                      0.483306   \n",
       "63       0.042411         0.040020                      0.483361   \n",
       "\n",
       "    mean_test_neg_mean_absolute_error  mean_test_neg_mean_squared_error  \\\n",
       "8                          -46.824259                      -3539.651068   \n",
       "11                         -46.828401                      -3541.344618   \n",
       "65                         -44.517191                      -3066.085694   \n",
       "71                         -44.517191                      -3066.085694   \n",
       "63                         -44.514384                      -3065.779924   \n",
       "\n",
       "    mean_test_neg_median_absolute_error  mean_test_r2 param_pca__n_components  \\\n",
       "8                            -38.666867      0.401602                    None   \n",
       "11                           -38.712712      0.401312                    None   \n",
       "65                           -38.728227      0.481970                      10   \n",
       "71                           -38.728227      0.481970                      10   \n",
       "63                           -38.733575      0.482024                      10   \n",
       "\n",
       "   param_pca__random_state param_pca__whiten param_polinomial__degree  \\\n",
       "8                       42              True                        2   \n",
       "11                      42              True                        2   \n",
       "65                      42              True                        3   \n",
       "71                      42              True                        3   \n",
       "63                      42              True                        3   \n",
       "\n",
       "   param_polinomial__include_bias param_polinomial__interaction_only  \\\n",
       "8                           False                              False   \n",
       "11                          False                              False   \n",
       "65                           True                              False   \n",
       "71                          False                              False   \n",
       "63                           True                              False   \n",
       "\n",
       "   param_regressao__alpha param_regressao__normalize  \\\n",
       "8                       1                      False   \n",
       "11                    0.7                      False   \n",
       "65                    0.7                      False   \n",
       "71                    0.7                      False   \n",
       "63                    0.7                      False   \n",
       "\n",
       "   param_regressao__random_state param_regressao__solver  \\\n",
       "8                             42                    saga   \n",
       "11                            42                    saga   \n",
       "65                            42                    saga   \n",
       "71                            42                    saga   \n",
       "63                            42                     svd   \n",
       "\n",
       "                                               params  \\\n",
       "8   {'pca__n_components': None, 'pca__random_state...   \n",
       "11  {'pca__n_components': None, 'pca__random_state...   \n",
       "65  {'pca__n_components': 10, 'pca__random_state':...   \n",
       "71  {'pca__n_components': 10, 'pca__random_state':...   \n",
       "63  {'pca__n_components': 10, 'pca__random_state':...   \n",
       "\n",
       "    rank_test_explained_variance  rank_test_neg_mean_absolute_error  \\\n",
       "8                             73                                 25   \n",
       "11                            74                                 26   \n",
       "65                            23                                 21   \n",
       "71                            24                                 21   \n",
       "63                            15                                 10   \n",
       "\n",
       "    rank_test_neg_mean_squared_error  rank_test_neg_median_absolute_error  \\\n",
       "8                                 73                                    1   \n",
       "11                                74                                    2   \n",
       "65                                23                                    3   \n",
       "71                                24                                    4   \n",
       "63                                15                                    5   \n",
       "\n",
       "    rank_test_r2  split0_test_explained_variance  \\\n",
       "8             73                        0.399700   \n",
       "11            74                        0.399403   \n",
       "65            23                        0.469249   \n",
       "71            24                        0.469249   \n",
       "63            15                        0.469351   \n",
       "\n",
       "    split0_test_neg_mean_absolute_error  split0_test_neg_mean_squared_error  \\\n",
       "8                            -45.736023                        -3445.117814   \n",
       "11                           -45.737541                        -3446.791853   \n",
       "65                           -45.308071                        -3050.740846   \n",
       "71                           -45.308071                        -3050.740846   \n",
       "63                           -45.301369                        -3050.160263   \n",
       "\n",
       "    split0_test_neg_median_absolute_error  split0_test_r2  \\\n",
       "8                              -38.029483        0.397441   \n",
       "11                             -38.038503        0.397148   \n",
       "65                             -42.055209        0.466418   \n",
       "71                             -42.055209        0.466418   \n",
       "63                             -42.090665        0.466520   \n",
       "\n",
       "    split1_test_explained_variance  split1_test_neg_mean_absolute_error  \\\n",
       "8                         0.413149                           -49.440803   \n",
       "11                        0.412962                           -49.442152   \n",
       "65                        0.483560                           -46.477228   \n",
       "71                        0.483560                           -46.477228   \n",
       "63                        0.483546                           -46.478208   \n",
       "\n",
       "    split1_test_neg_mean_squared_error  split1_test_neg_median_absolute_error  \\\n",
       "8                         -3725.773941                             -42.898886   \n",
       "11                        -3726.962774                             -42.994191   \n",
       "65                        -3276.844869                             -40.703594   \n",
       "71                        -3276.844869                             -40.703594   \n",
       "63                        -3276.929837                             -40.716245   \n",
       "\n",
       "    split1_test_r2  split2_test_explained_variance  \\\n",
       "8         0.412770                        0.395260   \n",
       "11        0.412583                        0.394868   \n",
       "65        0.483527                        0.497205   \n",
       "71        0.483527                        0.497205   \n",
       "63        0.483514                        0.497280   \n",
       "\n",
       "    split2_test_neg_mean_absolute_error  split2_test_neg_mean_squared_error  \\\n",
       "8                            -45.303356                        -3448.704531   \n",
       "11                           -45.312930                        -3450.922443   \n",
       "65                           -41.760893                        -2870.775753   \n",
       "71                           -41.760893                        -2870.775753   \n",
       "63                           -41.758222                        -2870.355929   \n",
       "\n",
       "    split2_test_neg_median_absolute_error  split2_test_r2  std_fit_time  \\\n",
       "8                              -35.076569        0.394624      0.000494   \n",
       "11                             -35.110028        0.394234      0.000232   \n",
       "65                             -33.403245        0.496072      0.002313   \n",
       "71                             -33.403245        0.496072      0.001364   \n",
       "63                             -33.370978        0.496145      0.001665   \n",
       "\n",
       "    std_score_time  std_test_explained_variance  \\\n",
       "8         0.000280                     0.007598   \n",
       "11        0.000708                     0.007679   \n",
       "65        0.002848                     0.011421   \n",
       "71        0.005075                     0.011421   \n",
       "63        0.001353                     0.011409   \n",
       "\n",
       "    std_test_neg_mean_absolute_error  std_test_neg_mean_squared_error  \\\n",
       "8                           1.855473                       131.393659   \n",
       "11                          1.853200                       131.040070   \n",
       "65                          2.003444                       165.946912   \n",
       "71                          2.003444                       165.946912   \n",
       "63                          2.004102                       166.165207   \n",
       "\n",
       "    std_test_neg_median_absolute_error  std_test_r2  \n",
       "8                             3.221730     0.007967  \n",
       "11                            3.250445     0.008044  \n",
       "65                            3.799273     0.012162  \n",
       "71                            3.799273     0.012162  \n",
       "63                            3.826901     0.012147  "
      ]
     },
     "execution_count": 14,
     "metadata": {},
     "output_type": "execute_result"
    }
   ],
   "source": [
    "pd.set_option('max_columns',200)\n",
    "results = pd.DataFrame(grid.cv_results_)\n",
    "results.sort_values(by=\"rank_test_neg_median_absolute_error\").head()"
   ]
  },
  {
   "cell_type": "markdown",
   "metadata": {},
   "source": [
    "Podemos ver que, apesar de nenhum modelo ter ficado particularmente bom (o melhor teve média do erro absoluto de 46, que representa 14% do range de 321 dos valores de y), quando colocamos o PCA com o mesmo número de variáveis \"originais\" (opção None na coluna param_pca\\__n\\_components) e o polinomio de grau 2 (coluna param\\_polinomial\\__degree) os resultados ficam melhores. Se você conseguir um resultado melhor com esse dataset me envia! Até a próxima!"
   ]
  },
  {
   "cell_type": "code",
   "execution_count": 22,
   "metadata": {},
   "outputs": [
    {
     "data": {
      "text/plain": [
       "0.14586996573208721"
      ]
     },
     "execution_count": 22,
     "metadata": {},
     "output_type": "execute_result"
    }
   ],
   "source": [
    "46.824259/ (y.max() - y.min())"
   ]
  },
  {
   "cell_type": "code",
   "execution_count": 23,
   "metadata": {},
   "outputs": [
    {
     "data": {
      "text/plain": [
       "321.0"
      ]
     },
     "execution_count": 23,
     "metadata": {},
     "output_type": "execute_result"
    }
   ],
   "source": [
    "(y.max() - y.min())"
   ]
  },
  {
   "cell_type": "code",
   "execution_count": null,
   "metadata": {},
   "outputs": [],
   "source": []
  }
 ],
 "metadata": {
  "kernelspec": {
   "display_name": "Python 3",
   "language": "python",
   "name": "python3"
  },
  "language_info": {
   "codemirror_mode": {
    "name": "ipython",
    "version": 3
   },
   "file_extension": ".py",
   "mimetype": "text/x-python",
   "name": "python",
   "nbconvert_exporter": "python",
   "pygments_lexer": "ipython3",
   "version": "3.6.4"
  }
 },
 "nbformat": 4,
 "nbformat_minor": 2
}
